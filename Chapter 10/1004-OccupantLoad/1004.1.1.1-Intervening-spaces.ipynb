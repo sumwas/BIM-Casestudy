{
 "cells": [
  {
   "cell_type": "markdown",
   "metadata": {},
   "source": [
    "# Section 1004.1.1.1 - Intervening spaces or accessory areas\n",
    "\n",
    "## Building Code\n",
    "\n",
    "`Where occupants egress from one or more rooms, areas or spaces through others, the design occupant load shall be the combined occupant load of interconnected accessory or intervening spaces. Design of egress path capacity shall be based on the cumulative portion of occupant loads of all rooms, areas or spaces to that point along the path of egress travel.`\n"
   ]
  }
 ],
 "metadata": {
  "language_info": {
   "name": "python"
  }
 },
 "nbformat": 4,
 "nbformat_minor": 2
}
