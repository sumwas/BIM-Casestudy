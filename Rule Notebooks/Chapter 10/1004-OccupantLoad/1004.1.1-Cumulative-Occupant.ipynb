{
 "cells": [
  {
   "cell_type": "markdown",
   "metadata": {},
   "source": [
    "# Section 1004.1.1 - Cumulative occupant loads\n",
    "\n",
    "## Building Code\n",
    "`Where the path of egress travel includes intervening rooms, areas or spaces, cumulative occupant loads shall be determined in accordance with this section.`\n",
    "\n",
    "This section is considered: Passed\n",
    "\n",
    "It is understood that cumulative occupant loads are determined in accordance with this section."
   ]
  }
 ],
 "metadata": {
  "language_info": {
   "name": "python"
  }
 },
 "nbformat": 4,
 "nbformat_minor": 2
}
