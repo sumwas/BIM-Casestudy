{
 "cells": [
  {
   "cell_type": "markdown",
   "metadata": {},
   "source": [
    "# Section 1004.1 - Design occupant load\n",
    "\n",
    "## Building Code\n",
    "\n",
    "`In determining means of egress requirements, the number of occupants for whom means of egress facilities are provided shall be determined in accordance with this section.`\n",
    "\n",
    "This section is considered: Passed\n",
    "\n",
    "It is understood that the number of occupants for whom means of egress facilities are provided will be determined in this section."
   ]
  }
 ],
 "metadata": {
  "language_info": {
   "name": "python"
  }
 },
 "nbformat": 4,
 "nbformat_minor": 2
}
