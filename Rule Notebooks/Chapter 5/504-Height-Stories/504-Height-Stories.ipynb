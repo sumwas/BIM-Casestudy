{
 "cells": [
  {
   "cell_type": "markdown",
   "metadata": {},
   "source": [
    "# Section 504 - BUILDING HEIGHT AND NUMBER OF STORIES\n",
    "\n",
    "This section is considered: Passed\n",
    "\n",
    "This section does not have any direct requirements to verify. Please refer to the subsections for analysis results.\n"
   ]
  }
 ],
 "metadata": {
  "language_info": {
   "name": "python"
  }
 },
 "nbformat": 4,
 "nbformat_minor": 2
}
