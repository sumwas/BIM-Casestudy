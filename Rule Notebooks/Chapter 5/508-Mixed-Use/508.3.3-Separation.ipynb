{
 "cells": [
  {
   "cell_type": "markdown",
   "metadata": {},
   "source": [
    "# Section 508.3.3 - Separation\n",
    "## Building Code\n",
    "```\n",
    "No separation is required between nonseparated occupancies. \n",
    "\n",
    "Exceptions: \n",
    "\n",
    " 1. Group H-2, H-3, H-4 and H-5 occupancies shall be separated from all other occupancies in accordance with Section 508.4. \n",
    "\n",
    " 2. Group I-1, R-1, R-2 and R-3 dwelling units and sleeping units  shall be separated from other dwelling or sleeping units and from other occupancies contiguous to them in accordance with the requirements of Section 420.\n",
    "```\n",
    "\n"
   ]
  },
  {
   "cell_type": "code",
   "execution_count": 1,
   "metadata": {},
   "outputs": [
    {
     "data": {
      "text/plain": [
       "<Graph identifier=N6536d51c7ffe4517a3bc59c5bfa90528 (<class 'rdflib.graph.Graph'>)>"
      ]
     },
     "execution_count": 1,
     "metadata": {},
     "output_type": "execute_result"
    }
   ],
   "source": [
    "import rdflib\n",
    "import pandas as pd\n",
    "# Load RDF graph\n",
    "rdf_graph = rdflib.Graph()\n",
    "rdf_graph.parse(\"..\\..\\..\\LBD files\\smartReview\\outputHotel Compliant Revit 2023 Advanced with Spaces.ifc.ttl\", format=\"ttl\")"
   ]
  },
  {
   "cell_type": "code",
   "execution_count": 19,
   "metadata": {},
   "outputs": [],
   "source": [
    "from IPython.display import display, HTML\n",
    "with open(\"..\\..\\..\\SPARQL\\\\uniqueOccupancy.sparql\", \"r\") as file:\n",
    "    sparql_query = file.read()\n",
    "    \n",
    "results = rdf_graph.query(sparql_query)\n",
    "\n",
    "# Process and format the results\n",
    "story_dict = {}\n",
    "\n",
    "for row in results:\n",
    "    level_value = row[0]\n",
    "    occupancies = row[1].split(\", \")\n",
    "    \n",
    "    if level_value not in story_dict:\n",
    "        story_dict[level_value] = []\n",
    "    \n",
    "    story_dict[level_value].extend(occupancies)\n",
    "\n",
    "data = []\n",
    "# Print the results in the desired format\n",
    "for level, occupancies in sorted(story_dict.items()):\n",
    "    unique_occupancies = sorted(set(occupancies))  # Remove duplicates and sort for better display\n",
    "    occupancy_count = len(unique_occupancies)\n",
    "    \n",
    "    contains_exception1 = any(o in [\"H-2\", \"H-3\", \"H-4\", \"H-5\"] for o in unique_occupancies)\n",
    "    contains_exception2 = any(o in [\"I-1\", \"R-1\", \"R-2\", \"R-3\"] for o in unique_occupancies)\n",
    "    \n",
    "    if occupancy_count == 1:\n",
    "        exception1_result = \"Passed\"\n",
    "        exception2_result = \"Passed\"\n",
    "        reason = \"The Separation Group only contains one occupancy. There can be no violation of Exception 1 or Exception 2.\"\n",
    "    else:\n",
    "        exception1_result = \"Passed\" if contains_exception1 else \"Failed\"\n",
    "        exception2_result = \"Passed\" if contains_exception2 else \"Failed\"\n",
    "        \n",
    "        reason_parts = []\n",
    "        if not contains_exception1:\n",
    "            reason_parts.append(\"The Separation Group does not contain an occupancy described in Exception 1.\")\n",
    "        if not contains_exception2:\n",
    "            reason_parts.append(\"The Separation Group does not contain an occupancy described in Exception 2.\")\n",
    "        \n",
    "        if reason_parts:\n",
    "            reason = \" \".join(reason_parts)\n",
    "        else:\n",
    "            reason = \"The Separation Group does not contain the required occupancies for Exception 1 or Exception 2.\"\n",
    "        \n",
    "    data.append({\n",
    "        \"Separation Group\": level,\n",
    "        \"Occupancies\": \", \".join(occupancies),\n",
    "        \"Exception 1 Result\": exception1_result,\n",
    "        \"Exception 2 Result\": exception2_result,\n",
    "        \"Reason\": reason\n",
    "    })\n",
    "\n",
    "# Create DataFrame\n",
    "df = pd.DataFrame(data)\n",
    "\n",
    "\n"
   ]
  },
  {
   "cell_type": "code",
   "execution_count": 20,
   "metadata": {},
   "outputs": [
    {
     "data": {
      "text/html": [
       "\n",
       "    <div style=\"max-height: 300px; overflow-y: scroll;\">\n",
       "        <table border=\"1\" class=\"dataframe\">\n",
       "  <thead>\n",
       "    <tr style=\"text-align: right;\">\n",
       "      <th>Separation Group</th>\n",
       "      <th>Occupancies</th>\n",
       "      <th>Exception 1 Result</th>\n",
       "      <th>Exception 2 Result</th>\n",
       "      <th>Reason</th>\n",
       "    </tr>\n",
       "  </thead>\n",
       "  <tbody>\n",
       "    <tr>\n",
       "      <td>01</td>\n",
       "      <td>A-3, A-2, R-1, B</td>\n",
       "      <td>Failed</td>\n",
       "      <td>Passed</td>\n",
       "      <td>The Separation Group does not contain an occupancy described in Exception 1.</td>\n",
       "    </tr>\n",
       "    <tr>\n",
       "      <td>02</td>\n",
       "      <td>R-1</td>\n",
       "      <td>Passed</td>\n",
       "      <td>Passed</td>\n",
       "      <td>The Separation Group only contains one occupancy. There can be no violation of Exception 1 or Exception 2.</td>\n",
       "    </tr>\n",
       "    <tr>\n",
       "      <td>03</td>\n",
       "      <td>R-1</td>\n",
       "      <td>Passed</td>\n",
       "      <td>Passed</td>\n",
       "      <td>The Separation Group only contains one occupancy. There can be no violation of Exception 1 or Exception 2.</td>\n",
       "    </tr>\n",
       "    <tr>\n",
       "      <td>04</td>\n",
       "      <td>R-1</td>\n",
       "      <td>Passed</td>\n",
       "      <td>Passed</td>\n",
       "      <td>The Separation Group only contains one occupancy. There can be no violation of Exception 1 or Exception 2.</td>\n",
       "    </tr>\n",
       "  </tbody>\n",
       "</table>\n",
       "    </div>\n",
       "    "
      ],
      "text/plain": [
       "<IPython.core.display.HTML object>"
      ]
     },
     "metadata": {},
     "output_type": "display_data"
    }
   ],
   "source": [
    "# Create DataFrame\n",
    "df = pd.DataFrame(data)\n",
    "\n",
    "# Display the DataFrame as a scrollable table\n",
    "def render_scrollable_table(dataframe, max_height=300):\n",
    "    display(HTML(f\"\"\"\n",
    "    <div style=\"max-height: {max_height}px; overflow-y: scroll;\">\n",
    "        {dataframe.to_html(index=False)}\n",
    "    </div>\n",
    "    \"\"\"))\n",
    "\n",
    "render_scrollable_table(df)"
   ]
  }
 ],
 "metadata": {
  "kernelspec": {
   "display_name": "Python 3",
   "language": "python",
   "name": "python3"
  },
  "language_info": {
   "codemirror_mode": {
    "name": "ipython",
    "version": 3
   },
   "file_extension": ".py",
   "mimetype": "text/x-python",
   "name": "python",
   "nbconvert_exporter": "python",
   "pygments_lexer": "ipython3",
   "version": "3.11.5"
  }
 },
 "nbformat": 4,
 "nbformat_minor": 2
}
