{
 "cells": [
  {
   "cell_type": "markdown",
   "metadata": {},
   "source": [
    "# Section 602 - CONSTRUCTION CLASSIFICATION\n",
    "\n",
    "## Building Code\n",
    "\n",
    "### TABLE 602 FIRE-RESISTANCE RATING REQUIREMENTS FOR EXTERIOR WALLS BASED ON FIRE SEPARATION DISTANCEa, d, g "
   ]
  },
  {
   "cell_type": "code",
   "execution_count": null,
   "metadata": {},
   "outputs": [],
   "source": [
    "fire_resistance_table = {\n",
    "    \"X < 5\": {\n",
    "        \"All\": {\n",
    "            \"Occupancy Group H\": 3,\n",
    "            \"Occupancy Group F-1, M, S-1\": 2,\n",
    "            \"Occupancy Group A, B, E, F-2, I, R, S-2, U\": 1\n",
    "        }\n",
    "    },\n",
    "    \"5 <= X < 10\": {\n",
    "        \"IA\": {\n",
    "            \"Occupancy Group H\": 3,\n",
    "            \"Occupancy Group F-1, M, S-1\": 2,\n",
    "            \"Occupancy Group A, B, E, F-2, I, R, S-2, U\": 1\n",
    "        },\n",
    "        \"Others\": {\n",
    "            \"Occupancy Group H\": 2,\n",
    "            \"Occupancy Group F-1, M, S-1\": 1,\n",
    "            \"Occupancy Group A, B, E, F-2, I, R, S-2, U\": 1\n",
    "        }\n",
    "    },\n",
    "    \"10 <= X < 30\": {\n",
    "        \"IA, IB\": {\n",
    "            \"Occupancy Group H\": 2,\n",
    "            \"Occupancy Group F-1, M, S-1\": 1,\n",
    "            \"Occupancy Group A, B, E, F-2, I, R, S-2, U\": 1\n",
    "        },\n",
    "        \"IIB, VB\": {\n",
    "            \"Occupancy Group H\": 1,\n",
    "            \"Occupancy Group F-1, M, S-1\": 0,\n",
    "            \"Occupancy Group A, B, E, F-2, I, R, S-2, U\": 0\n",
    "        },\n",
    "        \"Others\": {\n",
    "            \"Occupancy Group H\": 1,\n",
    "            \"Occupancy Group F-1, M, S-1\": 1,\n",
    "            \"Occupancy Group A, B, E, F-2, I, R, S-2, U\": 1\n",
    "        }\n",
    "    },\n",
    "    \"X >= 30\": {\n",
    "        \"All\": {\n",
    "            \"Occupancy Group H\": 0,\n",
    "            \"Occupancy Group F-1, M, S-1\": 0,\n",
    "            \"Occupancy Group A, B, E, F-2, I, R, S-2, U\": 0\n",
    "        }\n",
    "    }\n",
    "}\n",
    "\n",
    "# Example access:\n",
    "# fire_resistance_table[\"X < 5\"][\"All\"][\"Occupancy Group H\"]\n"
   ]
  },
  {
   "cell_type": "markdown",
   "metadata": {},
   "source": []
  }
 ],
 "metadata": {
  "language_info": {
   "name": "python"
  }
 },
 "nbformat": 4,
 "nbformat_minor": 2
}
