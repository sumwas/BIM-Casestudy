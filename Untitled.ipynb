{
 "cells": [
  {
   "cell_type": "code",
   "execution_count": 1,
   "id": "e4839577",
   "metadata": {},
   "outputs": [],
   "source": [
    "import jpype\n",
    "import json"
   ]
  },
  {
   "cell_type": "code",
   "execution_count": 2,
   "id": "fa1c2b9e",
   "metadata": {},
   "outputs": [],
   "source": [
    "# Enable Java imports\n",
    "import jpype.imports\n",
    "\n",
    "# Pull in types\n",
    "from jpype.types import *\n",
    "\n",
    "jpype.startJVM(classpath = ['jars/*'])\n",
    "\n",
    "from org.linkedbuildingdata.ifc2lbd import IFCtoLBDConverter\n",
    "from org.linkedbuildingdata.ifc2lbd import ConversionProperties"
   ]
  },
  {
   "cell_type": "code",
   "execution_count": 3,
   "id": "04b0747e",
   "metadata": {},
   "outputs": [],
   "source": [
    "props = ConversionProperties();\n",
    "props.setHasGeometry(True);"
   ]
  },
  {
   "cell_type": "code",
   "execution_count": 4,
   "id": "20ede4d7",
   "metadata": {},
   "outputs": [],
   "source": [
    "# Convert the IFC file into LBD, OPM level 1 model\n",
    "lbdconverter = IFCtoLBDConverter(\"https://example.domain.de/\",  1)"
   ]
  },
  {
   "cell_type": "code",
   "execution_count": 5,
   "id": "e913e9d5",
   "metadata": {},
   "outputs": [
    {
     "data": {
      "text/plain": [
       "<java object 'org.apache.jena.rdf.model.impl.ModelCom'>"
      ]
     },
     "execution_count": 5,
     "metadata": {},
     "output_type": "execute_result"
    }
   ],
   "source": [
    "lbdconverter.convert(\"IFC Files\\Duplex_A_20110505.ifc\",props)"
   ]
  },
  {
   "cell_type": "code",
   "execution_count": 6,
   "id": "38f9baf0",
   "metadata": {},
   "outputs": [],
   "source": [
    "lbd_json = str(lbdconverter.getObjJSON(\"\"\"\n",
    "                    PREFIX bot: <https://w3id.org/bot#>\n",
    "                    PREFIX fog: <https://w3id.org/fog#>\n",
    "\n",
    "                    JSON { 'element' : ?element,'obj': ?obj } WHERE {\n",
    "                      ?element a bot:Element .\n",
    "                      ?element <https://w3id.org/omg#hasGeometry> ?g .\n",
    "                      ?g fog:asObj_v3.0-obj ?obj\n",
    "                    }\"\"\"))\n",
    "lbd_objs = json.loads(lbd_json);"
   ]
  },
  {
   "cell_type": "code",
   "execution_count": 7,
   "id": "db5086c9",
   "metadata": {},
   "outputs": [
    {
     "name": "stderr",
     "output_type": "stream",
     "text": [
      "IOPub data rate exceeded.\n",
      "The notebook server will temporarily stop sending output\n",
      "to the client in order to avoid crashing it.\n",
      "To change this limit, set the config variable\n",
      "`--NotebookApp.iopub_data_rate_limit`.\n",
      "\n",
      "Current values:\n",
      "NotebookApp.iopub_data_rate_limit=1000000.0 (bytes/sec)\n",
      "NotebookApp.rate_limit_window=3.0 (secs)\n",
      "\n"
     ]
    }
   ],
   "source": [
    "for o in lbd_objs:\n",
    "  print(o[\"element\"])\n",
    "  print(o[\"obj\"])   # base64 obj"
   ]
  },
  {
   "cell_type": "code",
   "execution_count": null,
   "id": "4c566656",
   "metadata": {},
   "outputs": [],
   "source": []
  }
 ],
 "metadata": {
  "kernelspec": {
   "display_name": "Python 3 (ipykernel)",
   "language": "python",
   "name": "python3"
  },
  "language_info": {
   "codemirror_mode": {
    "name": "ipython",
    "version": 3
   },
   "file_extension": ".py",
   "mimetype": "text/x-python",
   "name": "python",
   "nbconvert_exporter": "python",
   "pygments_lexer": "ipython3",
   "version": "3.9.13"
  }
 },
 "nbformat": 4,
 "nbformat_minor": 5
}
